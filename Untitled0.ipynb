{
  "nbformat": 4,
  "nbformat_minor": 0,
  "metadata": {
    "colab": {
      "name": "Untitled0.ipynb",
      "provenance": [],
      "include_colab_link": true
    },
    "kernelspec": {
      "name": "python3",
      "display_name": "Python 3"
    }
  },
  "cells": [
    {
      "cell_type": "markdown",
      "metadata": {
        "id": "view-in-github",
        "colab_type": "text"
      },
      "source": [
        "<a href=\"https://colab.research.google.com/github/adi-16-7/Twitter-API-data-extraction/blob/main/Untitled0.ipynb\" target=\"_parent\"><img src=\"https://colab.research.google.com/assets/colab-badge.svg\" alt=\"Open In Colab\"/></a>"
      ]
    },
    {
      "cell_type": "code",
      "metadata": {
        "id": "WZ8dvBUxq09W",
        "outputId": "f17e1953-0783-448e-f40d-45342797bbd5",
        "colab": {
          "base_uri": "https://localhost:8080/",
          "height": 187
        }
      },
      "source": [
        ""
      ],
      "execution_count": null,
      "outputs": [
        {
          "output_type": "stream",
          "text": [
            "Requirement already satisfied: tweepy in /usr/local/lib/python3.6/dist-packages (3.6.0)\n",
            "Requirement already satisfied: requests-oauthlib>=0.7.0 in /usr/local/lib/python3.6/dist-packages (from tweepy) (1.3.0)\n",
            "Requirement already satisfied: requests>=2.11.1 in /usr/local/lib/python3.6/dist-packages (from tweepy) (2.21.0)\n",
            "Requirement already satisfied: PySocks>=1.5.7 in /usr/local/lib/python3.6/dist-packages (from tweepy) (1.7.1)\n",
            "Requirement already satisfied: six>=1.10.0 in /usr/local/lib/python3.6/dist-packages (from tweepy) (1.12.0)\n",
            "Requirement already satisfied: oauthlib>=3.0.0 in /usr/local/lib/python3.6/dist-packages (from requests-oauthlib>=0.7.0->tweepy) (3.1.0)\n",
            "Requirement already satisfied: idna<2.9,>=2.5 in /usr/local/lib/python3.6/dist-packages (from requests>=2.11.1->tweepy) (2.8)\n",
            "Requirement already satisfied: urllib3<1.25,>=1.21.1 in /usr/local/lib/python3.6/dist-packages (from requests>=2.11.1->tweepy) (1.24.3)\n",
            "Requirement already satisfied: chardet<3.1.0,>=3.0.2 in /usr/local/lib/python3.6/dist-packages (from requests>=2.11.1->tweepy) (3.0.4)\n",
            "Requirement already satisfied: certifi>=2017.4.17 in /usr/local/lib/python3.6/dist-packages (from requests>=2.11.1->tweepy) (2019.11.28)\n"
          ],
          "name": "stdout"
        }
      ]
    },
    {
      "cell_type": "code",
      "metadata": {
        "id": "6EIst1lhq5nz",
        "outputId": "19287a13-f638-4939-9bec-64970b94d5ed",
        "colab": {
          "base_uri": "https://localhost:8080/",
          "height": 231
        }
      },
      "source": [
        "import twitter\n",
        "import datetime\n",
        "consumerKey = \"ib8ZI70KTBojgInsPcAY7un8k\"\n",
        "consumerSecret = \"baVNbtiwPm8PQUj9K45sZLc3wqfU5UtrZk9m5vfAIUuhRA01TX\"\n",
        "accessToken = \"315799226-KytKZHl4z7OMIkZCjgzZj06HChmucE66jRbzZcqz\"\n",
        "accessTokenSecret = \"0HqxRat6weXKvKowrLabC25InBdLt4eUlOPDFCFjViUW7\"\n",
        "\n",
        "auth = twitter.OAuthHandler(consumerKey, consumerSecret)\n",
        "auth.set_access_token(accessToken, accessTokenSecret)\n",
        "api = twitter.API(auth)\n",
        "\n",
        "username = \"DelhiPolice\"\n",
        "startDate = datetime.datetime(2020, 3, 18, 0, 0, 0)\n",
        "endDate =   datetime.datetime(2020, 3, 21, 0, 0, 0)\n",
        "\n",
        "tweets = []\n",
        "tmpTweets = api.user_timeline(username)\n",
        "for tweet in tmpTweets:\n",
        "    if tweet.created_at < endDate and tweet.created_at > startDate:\n",
        "        tweets.append(tweet)\n",
        "\n",
        "while (tmpTweets[-1].created_at > startDate and len(tweets)<500):\n",
        "    tmpTweets = api.search(username, max_id = tmpTweets[-1].id)\n",
        "    for tweet in tmpTweets:\n",
        "        if tweet.created_at < endDate and tweet.created_at > startDate:\n",
        "            tweets.append(tweet)\n",
        "\n",
        "for x in tweets:\n",
        "\tprint(x.text + \" \" + x.created_at.strftime(\"%m/%d/%Y, %H:%M:%S\") + \"\\n\")"
      ],
      "execution_count": null,
      "outputs": [
        {
          "output_type": "error",
          "ename": "AttributeError",
          "evalue": "ignored",
          "traceback": [
            "\u001b[0;31m---------------------------------------------------------------------------\u001b[0m",
            "\u001b[0;31mAttributeError\u001b[0m                            Traceback (most recent call last)",
            "\u001b[0;32m<ipython-input-8-076e7c5b5f0e>\u001b[0m in \u001b[0;36m<module>\u001b[0;34m()\u001b[0m\n\u001b[1;32m      6\u001b[0m \u001b[0maccessTokenSecret\u001b[0m \u001b[0;34m=\u001b[0m \u001b[0;34m\"0HqxRat6weXKvKowrLabC25InBdLt4eUlOPDFCFjViUW7\"\u001b[0m\u001b[0;34m\u001b[0m\u001b[0;34m\u001b[0m\u001b[0m\n\u001b[1;32m      7\u001b[0m \u001b[0;34m\u001b[0m\u001b[0m\n\u001b[0;32m----> 8\u001b[0;31m \u001b[0mauth\u001b[0m \u001b[0;34m=\u001b[0m \u001b[0mtwitter\u001b[0m\u001b[0;34m.\u001b[0m\u001b[0mOAuthHandler\u001b[0m\u001b[0;34m(\u001b[0m\u001b[0mconsumerKey\u001b[0m\u001b[0;34m,\u001b[0m \u001b[0mconsumerSecret\u001b[0m\u001b[0;34m)\u001b[0m\u001b[0;34m\u001b[0m\u001b[0;34m\u001b[0m\u001b[0m\n\u001b[0m\u001b[1;32m      9\u001b[0m \u001b[0mauth\u001b[0m\u001b[0;34m.\u001b[0m\u001b[0mset_access_token\u001b[0m\u001b[0;34m(\u001b[0m\u001b[0maccessToken\u001b[0m\u001b[0;34m,\u001b[0m \u001b[0maccessTokenSecret\u001b[0m\u001b[0;34m)\u001b[0m\u001b[0;34m\u001b[0m\u001b[0;34m\u001b[0m\u001b[0m\n\u001b[1;32m     10\u001b[0m \u001b[0mapi\u001b[0m \u001b[0;34m=\u001b[0m \u001b[0mtwitter\u001b[0m\u001b[0;34m.\u001b[0m\u001b[0mAPI\u001b[0m\u001b[0;34m(\u001b[0m\u001b[0mauth\u001b[0m\u001b[0;34m)\u001b[0m\u001b[0;34m\u001b[0m\u001b[0;34m\u001b[0m\u001b[0m\n",
            "\u001b[0;31mAttributeError\u001b[0m: module 'twitter' has no attribute 'OAuthHandler'"
          ]
        }
      ]
    },
    {
      "cell_type": "code",
      "metadata": {
        "id": "WkVc_v2KrEcB",
        "outputId": "3be3bbda-0056-4723-965a-9b9b7e93ed33",
        "colab": {
          "base_uri": "https://localhost:8080/",
          "height": 367
        }
      },
      "source": [
        "import twitter\n",
        "import datetime\n",
        "consumerKey = \"ib8ZI70KTBojgInsPcAY7un8k\"\n",
        "consumerSecret = \"baVNbtiwPm8PQUj9K45sZLc3wqfU5UtrZk9m5vfAIUuhRA01TX\"\n",
        "accessToken = \"315799226-KytKZHl4z7OMIkZCjgzZj06HChmucE66jRbzZcqz\"\n",
        "accessTokenSecret = \"0HqxRat6weXKvKowrLabC25InBdLt4eUlOPDFCFjViUW7\"\n",
        "\n",
        "auth = twitter.OAuthHandler(consumerKey, consumerSecret)\n",
        "auth.set_access_token(accessToken, accessTokenSecret)\n",
        "\n",
        "api = twitter.API(auth)\n",
        "\n",
        "username = \"DelhiPolice\"\n",
        "startDate = datetime.datetime(2020, 2, 1, 0, 0, 0)\n",
        "endDate =   datetime.datetime(2020, 3, 6, 0, 0, 0)\n",
        "\n",
        "tweets = []\n",
        "tmpTweets = api.user_timeline(username)\n",
        "for tweet in tmpTweets:\n",
        "    if tweet.created_at < endDate and tweet.created_at > startDate:\n",
        "        tweets.append(tweet)\n",
        "\n",
        "while (tmpTweets[-1].created_at > startDate and len(tweets)<500):\n",
        "    tmpTweets = api.search(username, max_id = tmpTweets[-1].id)\n",
        "    for tweet in tmpTweets:\n",
        "        if tweet.created_at < endDate and tweet.created_at > startDate:\n",
        "            tweets.append(tweet)\n",
        "\n",
        "for x in tweets:\n",
        "\tprint(x.text + \" \" + x.created_at.strftime(\"%m/%d/%Y, %H:%M:%S\") + \"\\n\")"
      ],
      "execution_count": null,
      "outputs": [
        {
          "output_type": "error",
          "ename": "ModuleNotFoundError",
          "evalue": "ignored",
          "traceback": [
            "\u001b[0;31m---------------------------------------------------------------------------\u001b[0m",
            "\u001b[0;31mModuleNotFoundError\u001b[0m                       Traceback (most recent call last)",
            "\u001b[0;32m<ipython-input-1-0fd315d097a2>\u001b[0m in \u001b[0;36m<module>\u001b[0;34m()\u001b[0m\n\u001b[0;32m----> 1\u001b[0;31m \u001b[0;32mimport\u001b[0m \u001b[0mtwitter\u001b[0m\u001b[0;34m\u001b[0m\u001b[0;34m\u001b[0m\u001b[0m\n\u001b[0m\u001b[1;32m      2\u001b[0m \u001b[0;32mimport\u001b[0m \u001b[0mdatetime\u001b[0m\u001b[0;34m\u001b[0m\u001b[0;34m\u001b[0m\u001b[0m\n\u001b[1;32m      3\u001b[0m \u001b[0mconsumerKey\u001b[0m \u001b[0;34m=\u001b[0m \u001b[0;34m\"ib8ZI70KTBojgInsPcAY7un8k\"\u001b[0m\u001b[0;34m\u001b[0m\u001b[0;34m\u001b[0m\u001b[0m\n\u001b[1;32m      4\u001b[0m \u001b[0mconsumerSecret\u001b[0m \u001b[0;34m=\u001b[0m \u001b[0;34m\"baVNbtiwPm8PQUj9K45sZLc3wqfU5UtrZk9m5vfAIUuhRA01TX\"\u001b[0m\u001b[0;34m\u001b[0m\u001b[0;34m\u001b[0m\u001b[0m\n\u001b[1;32m      5\u001b[0m \u001b[0maccessToken\u001b[0m \u001b[0;34m=\u001b[0m \u001b[0;34m\"315799226-KytKZHl4z7OMIkZCjgzZj06HChmucE66jRbzZcqz\"\u001b[0m\u001b[0;34m\u001b[0m\u001b[0;34m\u001b[0m\u001b[0m\n",
            "\u001b[0;31mModuleNotFoundError\u001b[0m: No module named 'twitter'",
            "",
            "\u001b[0;31m---------------------------------------------------------------------------\u001b[0;32m\nNOTE: If your import is failing due to a missing package, you can\nmanually install dependencies using either !pip or !apt.\n\nTo view examples of installing some common dependencies, click the\n\"Open Examples\" button below.\n\u001b[0;31m---------------------------------------------------------------------------\u001b[0m\n"
          ]
        }
      ]
    },
    {
      "cell_type": "code",
      "metadata": {
        "id": "FjeaBV5Z7fpj",
        "outputId": "b367bbe6-6972-4703-f7f9-afb31c6ff433",
        "colab": {
          "base_uri": "https://localhost:8080/",
          "height": 122
        }
      },
      "source": [
        "pip install twitter"
      ],
      "execution_count": null,
      "outputs": [
        {
          "output_type": "stream",
          "text": [
            "Collecting twitter\n",
            "\u001b[?25l  Downloading https://files.pythonhosted.org/packages/85/e2/f602e3f584503f03e0389491b251464f8ecfe2596ac86e6b9068fe7419d3/twitter-1.18.0-py2.py3-none-any.whl (54kB)\n",
            "\r\u001b[K     |██████                          | 10kB 20.8MB/s eta 0:00:01\r\u001b[K     |████████████                    | 20kB 1.7MB/s eta 0:00:01\r\u001b[K     |██████████████████              | 30kB 2.3MB/s eta 0:00:01\r\u001b[K     |████████████████████████        | 40kB 1.6MB/s eta 0:00:01\r\u001b[K     |██████████████████████████████▏ | 51kB 2.0MB/s eta 0:00:01\r\u001b[K     |████████████████████████████████| 61kB 2.0MB/s \n",
            "\u001b[?25hInstalling collected packages: twitter\n",
            "Successfully installed twitter-1.18.0\n"
          ],
          "name": "stdout"
        }
      ]
    },
    {
      "cell_type": "code",
      "metadata": {
        "id": "ezqFWbJQ8V2h",
        "outputId": "e12c454c-585a-48ac-d84f-b481d314dbdc",
        "colab": {
          "base_uri": "https://localhost:8080/",
          "height": 231
        }
      },
      "source": [
        "import twitter\n",
        "import datetime\n",
        "consumerKey = \"ib8ZI70KTBojgInsPcAY7un8k\"\n",
        "consumerSecret = \"baVNbtiwPm8PQUj9K45sZLc3wqfU5UtrZk9m5vfAIUuhRA01TX\"\n",
        "accessToken = \"315799226-KytKZHl4z7OMIkZCjgzZj06HChmucE66jRbzZcqz\"\n",
        "accessTokenSecret = \"0HqxRat6weXKvKowrLabC25InBdLt4eUlOPDFCFjViUW7\"\n",
        "\n",
        "auth = twitter.AppAuthHandler(consumerKey, consumerSecret)\n",
        "auth.set_access_token(accessToken, accessTokenSecret)\n",
        "\n",
        "api = twitter.API(auth)\n",
        "\n",
        "username = \"DelhiPolice\"\n",
        "startDate = datetime.datetime(2020, 2, 1, 0, 0, 0)\n",
        "endDate =   datetime.datetime(2020, 3, 6, 0, 0, 0)\n",
        "\n",
        "tweets = []\n",
        "tmpTweets = api.user_timeline(username)\n",
        "for tweet in tmpTweets:\n",
        "    if tweet.created_at < endDate and tweet.created_at > startDate:\n",
        "        tweets.append(tweet)\n",
        "\n",
        "while (tmpTweets[-1].created_at > startDate and len(tweets)<500):\n",
        "    tmpTweets = api.search(username, max_id = tmpTweets[-1].id)\n",
        "    for tweet in tmpTweets:\n",
        "        if tweet.created_at < endDate and tweet.created_at > startDate:\n",
        "            tweets.append(tweet)\n",
        "\n",
        "for x in tweets:\n",
        "\tprint(x.text + \" \" + x.created_at.strftime(\"%m/%d/%Y, %H:%M:%S\") + \"\\n\")"
      ],
      "execution_count": null,
      "outputs": [
        {
          "output_type": "error",
          "ename": "AttributeError",
          "evalue": "ignored",
          "traceback": [
            "\u001b[0;31m---------------------------------------------------------------------------\u001b[0m",
            "\u001b[0;31mAttributeError\u001b[0m                            Traceback (most recent call last)",
            "\u001b[0;32m<ipython-input-4-749a7aa63154>\u001b[0m in \u001b[0;36m<module>\u001b[0;34m()\u001b[0m\n\u001b[1;32m      6\u001b[0m \u001b[0maccessTokenSecret\u001b[0m \u001b[0;34m=\u001b[0m \u001b[0;34m\"0HqxRat6weXKvKowrLabC25InBdLt4eUlOPDFCFjViUW7\"\u001b[0m\u001b[0;34m\u001b[0m\u001b[0;34m\u001b[0m\u001b[0m\n\u001b[1;32m      7\u001b[0m \u001b[0;34m\u001b[0m\u001b[0m\n\u001b[0;32m----> 8\u001b[0;31m \u001b[0mauth\u001b[0m \u001b[0;34m=\u001b[0m \u001b[0mtwitter\u001b[0m\u001b[0;34m.\u001b[0m\u001b[0mAppAuthHandler\u001b[0m\u001b[0;34m(\u001b[0m\u001b[0mconsumerKey\u001b[0m\u001b[0;34m,\u001b[0m \u001b[0mconsumerSecret\u001b[0m\u001b[0;34m)\u001b[0m\u001b[0;34m\u001b[0m\u001b[0;34m\u001b[0m\u001b[0m\n\u001b[0m\u001b[1;32m      9\u001b[0m \u001b[0mauth\u001b[0m\u001b[0;34m.\u001b[0m\u001b[0mset_access_token\u001b[0m\u001b[0;34m(\u001b[0m\u001b[0maccessToken\u001b[0m\u001b[0;34m,\u001b[0m \u001b[0maccessTokenSecret\u001b[0m\u001b[0;34m)\u001b[0m\u001b[0;34m\u001b[0m\u001b[0;34m\u001b[0m\u001b[0m\n\u001b[1;32m     10\u001b[0m \u001b[0;34m\u001b[0m\u001b[0m\n",
            "\u001b[0;31mAttributeError\u001b[0m: module 'twitter' has no attribute 'AppAuthHandler'"
          ]
        }
      ]
    },
    {
      "cell_type": "code",
      "metadata": {
        "id": "UP4oL90J88Ae"
      },
      "source": [
        "import tweepy\n",
        "import datetime\n",
        "consumerKey = \"ib8ZI70KTBojgInsPcAY7un8k\"\n",
        "consumerSecret = \"baVNbtiwPm8PQUj9K45sZLc3wqfU5UtrZk9m5vfAIUuhRA01TX\"\n",
        "accessToken = \"315799226-KytKZHl4z7OMIkZCjgzZj06HChmucE66jRbzZcqz\"\n",
        "accessTokenSecret = \"0HqxRat6weXKvKowrLabC25InBdLt4eUlOPDFCFjViUW7\"\n",
        "\n",
        "auth = tweepy.OAuthHandler(consumerKey, consumerSecret)\n",
        "auth.set_access_token(accessToken, accessTokenSecret)\n",
        "\n",
        "\n",
        "\n",
        "# auth = tweepy.AppAuthHandler(consumer_token, consumer_secret)\n",
        "# auth.secure = True\n",
        "api = tweepy.API(auth, wait_on_rate_limit=True, wait_on_rate_limit_notify=True)\n",
        "\n",
        "\n",
        "# api = tweepy.API(auth)\n",
        "\n",
        "username = '@DelhiPolice'\n",
        "startDate = datetime.datetime(2020, 3, 18, 0, 0, 0)\n",
        "endDate =   datetime.datetime(2020, 3, 21, 0, 0, 0)\n",
        "\n",
        "tweets = []\n",
        "tmpTweets = api.search(q=username)\n",
        "for tweet in tmpTweets:\n",
        "    if tweet.created_at < endDate and tweet.created_at > startDate:\n",
        "        tweets.append(tweet)\n",
        "\n",
        "while (tmpTweets[-1].created_at > startDate):\n",
        "    tmpTweets = api.search(q=username, max_id = tmpTweets[-1].id)\n",
        "    for tweet in tmpTweets:\n",
        "        if tweet.created_at < endDate and tweet.created_at > startDate:\n",
        "            tweets.append(tweet)\n",
        "\n",
        "for x in tweets:\n",
        "\tprint(x.text + \" \" + x.created_at.strftime(\"%m/%d/%Y, %H:%M:%S\") + \"\\n\")"
      ],
      "execution_count": null,
      "outputs": []
    },
    {
      "cell_type": "code",
      "metadata": {
        "id": "iCwDqVjg4veu",
        "outputId": "c0523605-7970-42c9-9239-264e8b2b3eec",
        "colab": {
          "base_uri": "https://localhost:8080/",
          "height": 122
        }
      },
      "source": [
        "pip install twitter"
      ],
      "execution_count": null,
      "outputs": [
        {
          "output_type": "stream",
          "text": [
            "Collecting twitter\n",
            "\u001b[?25l  Downloading https://files.pythonhosted.org/packages/85/e2/f602e3f584503f03e0389491b251464f8ecfe2596ac86e6b9068fe7419d3/twitter-1.18.0-py2.py3-none-any.whl (54kB)\n",
            "\r\u001b[K     |██████                          | 10kB 22.9MB/s eta 0:00:01\r\u001b[K     |████████████                    | 20kB 3.0MB/s eta 0:00:01\r\u001b[K     |██████████████████              | 30kB 4.4MB/s eta 0:00:01\r\u001b[K     |████████████████████████        | 40kB 2.9MB/s eta 0:00:01\r\u001b[K     |██████████████████████████████▏ | 51kB 3.6MB/s eta 0:00:01\r\u001b[K     |████████████████████████████████| 61kB 3.0MB/s \n",
            "\u001b[?25hInstalling collected packages: twitter\n",
            "Successfully installed twitter-1.18.0\n"
          ],
          "name": "stdout"
        }
      ]
    },
    {
      "cell_type": "code",
      "metadata": {
        "id": "SHblaPFN5LEn",
        "outputId": "24e4ae7f-aa45-422c-d3a5-4cefcb2b9c2d",
        "colab": {
          "base_uri": "https://localhost:8080/",
          "height": 170
        }
      },
      "source": [
        "pip install config"
      ],
      "execution_count": null,
      "outputs": [
        {
          "output_type": "stream",
          "text": [
            "Collecting config\n",
            "  Downloading https://files.pythonhosted.org/packages/59/6c/4ab0d80b22dca3baab49670b75ae2183b59649e9f27c11018075e509048e/config-0.4.2.tar.gz\n",
            "Building wheels for collected packages: config\n",
            "  Building wheel for config (setup.py) ... \u001b[?25l\u001b[?25hdone\n",
            "  Created wheel for config: filename=config-0.4.2-cp36-none-any.whl size=15135 sha256=d61f83ea68832a2ea6995f32ee2864466972c12767cddd5f5cf2e1ca9c4155f7\n",
            "  Stored in directory: /root/.cache/pip/wheels/51/7d/db/0e38d2ec57843d00cc39f8df3686984ccec689694f7bc78a38\n",
            "Successfully built config\n",
            "Installing collected packages: config\n",
            "Successfully installed config-0.4.2\n"
          ],
          "name": "stdout"
        }
      ]
    },
    {
      "cell_type": "code",
      "metadata": {
        "id": "WNXWSroZ_BD-",
        "outputId": "2c64a293-24f8-408a-fbdf-07f0d253bff5",
        "colab": {
          "base_uri": "https://localhost:8080/",
          "height": 231
        }
      },
      "source": [
        "#!/usr/bin/env python\n",
        "\n",
        "#-----------------------------------------------------------------------\n",
        "# twitter-stream-responder\n",
        "#  - will respond to any tweet that mentions me.\n",
        "#-----------------------------------------------------------------------\n",
        "\n",
        "from twitter import *\n",
        "import time\n",
        "\n",
        "#-----------------------------------------------------------------------\n",
        "# this is the username we're matching against.\n",
        "#-----------------------------------------------------------------------\n",
        "username = \"nplus7\"\n",
        "\n",
        "#-----------------------------------------------------------------------\n",
        "# sleep for this number of seconds between tweets, to ensure we\n",
        "# don't flood\n",
        "#-----------------------------------------------------------------------\n",
        "sleep_time = 1\n",
        "\n",
        "#-----------------------------------------------------------------------\n",
        "# load our API credentials\n",
        "#-----------------------------------------------------------------------\n",
        "import sys\n",
        "sys.path.append(\".\")\n",
        "import config\n",
        "\n",
        "#-----------------------------------------------------------------------\n",
        "# create TwitterStream streaming API object, and standard Twitter\n",
        "# object to post replies.\n",
        "#-----------------------------------------------------------------------\n",
        "auth = OAuth(config.,\n",
        "             config.access_secret,\n",
        "             config.consumer_key,\n",
        "             config.consumer_secret)\n",
        "twitter = Twitter(auth = auth)\n",
        "stream = TwitterStream(domain = \"userstream.twitter.com\", auth = auth, secure = True)\n",
        "\n",
        "#-----------------------------------------------------------------------\n",
        "# iterate over tweets matching this filter text\n",
        "#-----------------------------------------------------------------------\n",
        "tweet_iter = stream.user()\n",
        "\n",
        "for tweet in tweet_iter:\n",
        "    #-----------------------------------------------------------------------\n",
        "    # check whether this is a valid tweet\n",
        "    #-----------------------------------------------------------------------\n",
        "    if \"entities\" not in tweet:\n",
        "        continue\n",
        "\n",
        "    #-----------------------------------------------------------------------\n",
        "    # are we mentioned within this tweet?\n",
        "    #-----------------------------------------------------------------------\n",
        "    mentions = tweet[\"entities\"][\"user_mentions\"]\n",
        "    mentioned_users = [ mention[\"screen_name\"] for mention in mentions ]\n",
        "\n",
        "    if username in mentioned_users:\n",
        "        print(\"thanking @%s for the mention\" % tweet[\"user\"][\"screen_name\"])\n",
        "\n",
        "        #-----------------------------------------------------------------------\n",
        "        # update our status with a thank you message directed at the source.\n",
        "        # use try/except to catch potential failures.\n",
        "        #-----------------------------------------------------------------------\n",
        "        status = \"@%s thanks for the mention\" % tweet[\"user\"][\"screen_name\"]\n",
        "        try:\n",
        "            twitter.statuses.update(status = status)\n",
        "        except Exception as e:\n",
        "            print(\" - failed (maybe a duplicate?): %s\" % e)\n",
        "\n",
        "    time.sleep(sleep_time)"
      ],
      "execution_count": null,
      "outputs": [
        {
          "output_type": "error",
          "ename": "AttributeError",
          "evalue": "ignored",
          "traceback": [
            "\u001b[0;31m---------------------------------------------------------------------------\u001b[0m",
            "\u001b[0;31mAttributeError\u001b[0m                            Traceback (most recent call last)",
            "\u001b[0;32m<ipython-input-7-86e42456494c>\u001b[0m in \u001b[0;36m<module>\u001b[0;34m()\u001b[0m\n\u001b[1;32m     25\u001b[0m \u001b[0;31m# object to post replies.\u001b[0m\u001b[0;34m\u001b[0m\u001b[0;34m\u001b[0m\u001b[0;34m\u001b[0m\u001b[0m\n\u001b[1;32m     26\u001b[0m \u001b[0;31m#-----------------------------------------------------------------------\u001b[0m\u001b[0;34m\u001b[0m\u001b[0;34m\u001b[0m\u001b[0;34m\u001b[0m\u001b[0m\n\u001b[0;32m---> 27\u001b[0;31m auth = OAuth(config.access_key,\n\u001b[0m\u001b[1;32m     28\u001b[0m              \u001b[0mconfig\u001b[0m\u001b[0;34m.\u001b[0m\u001b[0maccess_secret\u001b[0m\u001b[0;34m,\u001b[0m\u001b[0;34m\u001b[0m\u001b[0;34m\u001b[0m\u001b[0m\n\u001b[1;32m     29\u001b[0m              \u001b[0mconfig\u001b[0m\u001b[0;34m.\u001b[0m\u001b[0mconsumer_key\u001b[0m\u001b[0;34m,\u001b[0m\u001b[0;34m\u001b[0m\u001b[0;34m\u001b[0m\u001b[0m\n",
            "\u001b[0;31mAttributeError\u001b[0m: module 'config' has no attribute 'access_key'"
          ]
        }
      ]
    },
    {
      "cell_type": "code",
      "metadata": {
        "id": "A36pvCuL5W4M",
        "outputId": "944475ce-0a02-41ed-b1e2-1b08e83bdd5a",
        "colab": {
          "base_uri": "https://localhost:8080/",
          "height": 129
        }
      },
      "source": [
        "import tweepy\n",
        "import datetime\n",
        "consumerKey = \"ib8ZI70KTBojgInsPcAY7un8k\"\n",
        "consumerSecret = \"baVNbtiwPm8PQUj9K45sZLc3wqfU5UtrZk9m5vfAIUuhRA01TX\"\n",
        "accessToken = \"315799226-KytKZHl4z7OMIkZCjgzZj06HChmucE66jRbzZcqz\"\n",
        "accessTokenSecret = \"0HqxRat6weXKvKowrLabC25InBdLt4eUlOPDFCFjViUW7\"\n",
        "\n",
        "auth = tweepy.OAuthHandler(consumerKey, consumerSecret)\n",
        "auth.set_access_token(accessToken, accessTokenSecret)\n",
        "\n",
        "\n",
        "\n",
        "# auth = tweepy.AppAuthHandler(consumer_token, consumer_secret)\n",
        "# auth.secure = True\n",
        "# api = tweepy.API(auth, wait_on_rate_limit=True, wait_on_rate_limit_notify=True)\n",
        "\n",
        "\n",
        "api = tweepy.API(auth)\n",
        "\n",
        "# username = \"DelhiPolice\"\n",
        "startDate = datetime.datetime(2020, 3, 18, 0, 0, 0)\n",
        "endDate =   datetime.datetime(2020, 3, 21, 0, 0, 0)\n",
        "\n",
        "tweets = []\n",
        "# tmpTweets = api.user_timeline(username)\n",
        "tmpTweets = api.search('@DelhiPolice', count=10000) #using @DelhiPolice, we'll get all tweets that have @DelhiPolice mentioned in them which includes the tweets by Delhi Police themselves\n",
        "\n",
        "for tweet in tmpTweets:\n",
        "    if tweet.created_at < endDate and tweet.created_at > start Date:\n",
        "        tweets.append(tweet)\n",
        "\n",
        "while (tmpTweets[-1].created_at > startDate):\n",
        "    tmpTweets = api.search(username, max_id = tmpTweets[-1].id)\n",
        "    for tweet in tmpTweets:\n",
        "        if tweet.created_at < endDate and tweet.created_at > startDate:\n",
        "            tweets.append(tweet)\n",
        "\n",
        "for x in tweets:\n",
        "\tprint(x.text + \" \" + x.created_at.strftime(\"%m/%d/%Y, %H:%M:%S\") + \"\\n\")"
      ],
      "execution_count": null,
      "outputs": [
        {
          "output_type": "error",
          "ename": "SyntaxError",
          "evalue": "ignored",
          "traceback": [
            "\u001b[0;36m  File \u001b[0;32m\"<ipython-input-1-7af1108b74f0>\"\u001b[0;36m, line \u001b[0;32m29\u001b[0m\n\u001b[0;31m    if tweet.created_at < endDate and tweet.created_at > start Date:\u001b[0m\n\u001b[0m                                                                  ^\u001b[0m\n\u001b[0;31mSyntaxError\u001b[0m\u001b[0;31m:\u001b[0m invalid syntax\n"
          ]
        }
      ]
    },
    {
      "cell_type": "code",
      "metadata": {
        "id": "r_VKc7D17tWD",
        "outputId": "eeb2fb31-2231-4511-84c2-64119f96892e",
        "colab": {
          "base_uri": "https://localhost:8080/",
          "height": 1000
        }
      },
      "source": [
        "import tweepy\n",
        "import datetime\n",
        "consumerKey = \"ib8ZI70KTBojgInsPcAY7un8k\"\n",
        "consumerSecret = \"baVNbtiwPm8PQUj9K45sZLc3wqfU5UtrZk9m5vfAIUuhRA01TX\"\n",
        "accessToken = \"315799226-KytKZHl4z7OMIkZCjgzZj06HChmucE66jRbzZcqz\"\n",
        "accessTokenSecret = \"0HqxRat6weXKvKowrLabC25InBdLt4eUlOPDFCFjViUW7\"\n",
        "\n",
        "auth = tweepy.OAuthHandler(consumerKey, consumerSecret)\n",
        "auth.set_access_token(accessToken, accessTokenSecret)\n",
        "\n",
        "\n",
        "\n",
        "# auth = tweepy.AppAuthHandler(consumer_token, consumer_secret)\n",
        "# auth.secure = True\n",
        "# api = tweepy.API(auth, wait_on_rate_limit=True, wait_on_rate_limit_notify=True)\n",
        "\n",
        "\n",
        "api = tweepy.API(auth)\n",
        "\n",
        "username = \"DelhiPolice\"\n",
        "startDate = datetime.datetime(2020, 3, 18, 0, 0, 0)\n",
        "endDate =   datetime.datetime(2020, 3, 21, 0, 0, 0)\n",
        "\n",
        "\n",
        "# query = 'DelhiPolice'\n",
        "# max_tweets = 1000\n",
        "# searched_tweets = [status for status in tweepy.Cursor(api.search, q=query).items(max_tweets)]\n",
        "# print(searched_tweets)\n",
        "tweets = api.search('@DCPSouthDelhi', count=100) #using @DelhiPolice, we'll get all tweets that have @DelhiPolice mentioned in them which includes the tweets by Delhi Police themselves\n",
        "for i in tweets:\n",
        "    if \"RT @\" not in i.text: #custom filter to filter out retweets\n",
        "        if str(i.user.name)==\"Delhi Police\": #filtering out the tweets by Delhi Police so that what we are left with is only mentions of @DelhiPolice\n",
        "            continue\n",
        "        print(i.text , \" \" , i.created_at.strftime(\"%m/%d/%Y, %H:%M:%S\") , \" by \", i.user.name, \"\\n\")\n",
        "        # print(i.user.name+)\n",
        "    # print()"
      ],
      "execution_count": null,
      "outputs": [
        {
          "output_type": "stream",
          "text": [
            "@Shobha42272161 @DCPSouthDelhi @DCP_CCC_Delhi https://t.co/bb2ro2oCVQ   05/09/2020, 05:36:54  by  deepak pathak \n",
            "\n",
            "Sir,\n",
            "What is the limit for number of individuals travelling in a 'four wheeler vehicle' under single e-pass? Please… https://t.co/QdI9pOUGAV   05/09/2020, 05:33:51  by  Shashank🇮🇳 \n",
            "\n",
            "@_NEERAJ__ @kushinagarpol @UPGovt @Uppolice @myogiadityanath @gorakhpurpolice @DCPSouthDelhi Expired ho gaya hoga..… https://t.co/NNafgd5CSe   05/09/2020, 05:17:11  by  ɲ€€яąj 🇮🇳 \n",
            "\n",
            "@DelhiPwd @DCPSouthDelhi @ArvindKejriwal. Has been more than 12 days and complaint hasn’t been tended to. Please lo… https://t.co/5l0z8cHkHB   05/09/2020, 05:14:27  by  apaar mehar sinha \n",
            "\n",
            "@RajeevK56665893 @Sridevta @duttsanjay @kaushiksbhowmik @DCPSouthDelhi @DCPNewDelhi Hahahah.😂😂😂\n",
            "Okay   05/09/2020, 05:14:24  by  Jaikishan singh \n",
            "\n",
            "@himmatsinghgur1 @PrakashJarwal @hemantsinghguj1 @DCPSouthDelhi @jitendragurjar7 @AapChorHain @PiyushNambardar… https://t.co/MwzRioK2ms   05/09/2020, 04:42:36  by  नरेश गुर्जर \n",
            "\n",
            "@DCPSouthDelhi @CPDelhi @LtGovDelhi @DelhiPolice Keep it up sir i appreciate your efforts in respect of labours and humanity 🙏   05/09/2020, 04:38:46  by  Sahil Abbas \n",
            "\n",
            "@imakarlrock \n",
            "\n",
            "Goes to anti CAA protest as a volunteer of Swaraj Party of @_YogendraYadav . \n",
            "\n",
            "Can a foreigner in In… https://t.co/GBUnw1fSOd   05/09/2020, 04:36:22  by  Varun \n",
            "\n",
            "@db923490 @DCPSouthDelhi @mlkhattar @sudhirchaudhary @aajtak @cmohry 😔😔   05/09/2020, 04:36:02  by  Arpit 🇮🇳 \n",
            "\n",
            "@jaikishan121 @Sridevta @duttsanjay @kaushiksbhowmik @DCPSouthDelhi @DCPNewDelhi In the mean time I'm discussing wi… https://t.co/79NwXJk2a0   05/09/2020, 04:10:04  by  Rajeev Kumar shah \n",
            "\n",
            "@jaikishan121 @Sridevta @duttsanjay @kaushiksbhowmik Wait @jaikishan121 one of the cyber cell person will contact y… https://t.co/Wlq9Cn5rjU   05/09/2020, 04:04:50  by  Rajeev Kumar shah \n",
            "\n",
            "@DelhiPolice @DCPSouthDelhi दिल्ली पुलिस का यह प्रयास अतुलनीय है।   05/09/2020, 03:48:55  by  Shantanu Sharma \n",
            "\n",
            "Jo Corono ki duty pe police karmi ja rahe hai, unko PPE Kit (Personal Protection Equipment Kit) provide kari jaye!!… https://t.co/1IfYEZ4uIT   05/09/2020, 03:38:47  by  RK Baba Dev Tomar \n",
            "\n",
            "@DelhiPolice @DCPSouthDelhi Always giving us wrong information.\n",
            "This is not dil ki police.   05/09/2020, 03:28:39  by  somesh suryanshi \n",
            "\n",
            "@officialUSF11 @yuvahallabol @msisodia @LtGovDelhi @DCPSouthDelhi   05/09/2020, 03:23:24  by  shubham tyagi \n",
            "\n",
            "@DCPSouthDelhi @gupta_iitdelhi @DelhiPolice https://t.co/NJljetpCGz   05/09/2020, 03:13:58  by  Arpan Agarwal \n",
            "\n",
            "@Mota_Bhai_Army @spabdr @AbadCityPolice @RehanRangrez1 @PMOIndia @DCPSouthDelhi @CPDelhi @KapilMishra_IND @Uppolice… https://t.co/9MH9a9eOnD   05/09/2020, 03:09:11  by  Tillu \n",
            "\n",
            "@DCPSouthDelhi @CPDelhi @LtGovDelhi @DelhiPolice @MoHFW_INDIA Bihar jaane ka pass mil sakta hai   05/09/2020, 03:02:27  by  Rabinder.Bhagat \n",
            "\n",
            "@AzamTya81122400 @DCPNewDelhi @DCPSouthDelhi @AAPDelhi @ndtv @abhisar_sharma Shame on Delhi police and their incharge   05/09/2020, 03:01:41  by  Zakir Khan \n",
            "\n",
            "@DCPSouthDelhi @DelhiPolice \n",
            "No social distancing at DIPSAR, Mehrauli. https://t.co/edzXItJkb8   05/09/2020, 02:56:06  by  PujaChoudhary \n",
            "\n",
            "@DelhiPolice @DCPSouthDelhi .दिल्ली पुलिस  अपराधी साद को नोटिस पर नोटिस भेज रही है क्या अन्य लोगों को भी ऐसे ही नो… https://t.co/dvdcXCYsCy   05/09/2020, 02:42:02  by  ek deshbhakt \n",
            "\n",
            "@ADcpsouthdelhi @DCPSouthDelhi Great gesture by Delhi police   05/09/2020, 02:39:01  by  Ajeet Kumar Yadav \n",
            "\n",
            "@Akhiles06074546 @DCPSouthDelhi Fallow back   05/09/2020, 02:31:03  by  शिवम् शुक्ला \n",
            "\n",
            "@Rahul_Gupta_IPS @DCPSouthDelhi @DelhiPolice Great sir   05/09/2020, 02:24:10  by  Rishikesh \n",
            "\n",
            "#ViralVideo में सागरपुर में एक शख्स की पिटाई करते हुए देखे गए पुलिस कांस्टेबल को निलंबित कर दिया गया है. मामले की… https://t.co/uhewnjQw60   05/09/2020, 01:53:56  by  ZEE HINDUSTAN \n",
            "\n",
            "@DCPNWestDelhi @CPDelhi @DelhiPolice @DCPSouthDelhi @DCPNewDelhi @DCPWestDelhi @DCPSEastDelhi @DCPEastDelhi… https://t.co/LLB7dgBwQN   05/09/2020, 01:27:07  by  Gaurav Pal \n",
            "\n",
            "@Iam__Pratik #OperationHaftaVasooli @noidapolice @Ajmer_Police @IgpAjmer  @consumer_court @DelhiPolice… https://t.co/yOSiy2BATs   05/09/2020, 00:49:29  by  raju \n",
            "\n",
            "@himmatsinghgur1 @PrakashJarwal @hemantsinghguj1 @DCPSouthDelhi @jitendragurjar7 @AapChorHain @PiyushNambardar… https://t.co/7WeCAVGB4P   05/09/2020, 00:34:55  by  ✨Priyanka Gurjar✨🇮🇳 \n",
            "\n",
            "@bkkomal @ArvindKejriwal @CMODelhi @msisodia @DMSouthDelhi @chitraaum @DCPSouthDelhi @DMMau1 @DelhiPolice… https://t.co/qI0Ju9RceM   05/09/2020, 00:29:57  by  Shivkumar Patel \n",
            "\n",
            "दिल्ली के उत्तमनगर में किराए पर रहते है। इनकी मदद करे ताकि ये अपने पापा की दवा करा  सके। इनका मोबाइल है। 9415545965… https://t.co/APs7jDhrlm   05/09/2020, 00:25:03  by  Komal Yaduvanshi \n",
            "\n",
            "Thanks🙏\n",
            "@vinaymishraAAP\n",
            "Thanks @CPDelhi @LtGovDelhi @DCPSouthDelhi @DCPCentralDelhi @DCPNewDelhi @DCPWestDelhi… https://t.co/LVxx1507JI   05/08/2020, 23:30:11  by  Aam_Nagrik \n",
            "\n",
            "@AzamTya81122400 @DCPNewDelhi @DCPSouthDelhi @AAPDelhi @ndtv @abhisar_sharma Bahut ache Afroz bhai   05/08/2020, 22:35:08  by  HaMiD \n",
            "\n",
            "@MirzaZeeman @DelhiPolice @DCP_CCC_Delhi @DCPWestDelhi @DCPSouthDelhi @ayodhya_police @ArvindKejriwal Ji. Sir. aise… https://t.co/7bzXOJKinA   05/08/2020, 21:41:43  by  Haroon Raza \n",
            "\n",
            "@LtGovDelhi \n",
            "@mygovindia \n",
            "@DCPSouthDelhi \n",
            "@LabourMinistry \n",
            "@CMODelhi \n",
            "@ArvindKejriwal \n",
            "@PIBHomeAffairs… https://t.co/kzmCEmZ6jl   05/08/2020, 21:10:54  by  Vikas kaushik \n",
            "\n",
            "@DCPSouthDelhi आप लोग जिस तरह से कार्य कर रहे है वह बोहत ही सराहनीय है मेरा बोहत दिल करता है कि आप लोगो को अपने दिल… https://t.co/Y5VyaL1egs   05/08/2020, 20:57:15  by  Decentajit007@gmail.Com \n",
            "\n",
            "Sir Delhi me jab se Bihar jane wala Online register website chalu kiya hai Ek Vi Din nahi khula raha hai our police… https://t.co/3gjHAjOuur   05/08/2020, 19:49:54  by  Abdul Karim \n",
            "\n"
          ],
          "name": "stdout"
        }
      ]
    },
    {
      "cell_type": "code",
      "metadata": {
        "id": "ZB3HMVx_QnPH",
        "outputId": "1ce21389-b2b5-4c97-f9ba-96055acf21aa",
        "colab": {
          "base_uri": "https://localhost:8080/",
          "height": 1000
        }
      },
      "source": [
        "import tweepy\n",
        "import datetime\n",
        "consumerKey = \"ib8ZI70KTBojgInsPcAY7un8k\"\n",
        "consumerSecret = \"baVNbtiwPm8PQUj9K45sZLc3wqfU5UtrZk9m5vfAIUuhRA01TX\"\n",
        "accessToken = \"315799226-KytKZHl4z7OMIkZCjgzZj06HChmucE66jRbzZcqz\"\n",
        "accessTokenSecret = \"0HqxRat6weXKvKowrLabC25InBdLt4eUlOPDFCFjViUW7\"\n",
        "\n",
        "auth = tweepy.OAuthHandler(consumerKey, consumerSecret)\n",
        "auth.set_access_token(accessToken, accessTokenSecret)\n",
        "\n",
        "\n",
        "\n",
        "# auth = tweepy.AppAuthHandler(consumer_token, consumer_secret)\n",
        "# auth.secure = True\n",
        "# api = tweepy.API(auth, wait_on_rate_limit=True, wait_on_rate_limit_notify=True)\n",
        "\n",
        "\n",
        "api = tweepy.API(auth)\n",
        "\n",
        "# username = \"DelhiPolice\"\n",
        "startDate = datetime.datetime(2020, 3, 22, 0, 0, 0)\n",
        "endDate =   datetime.datetime(2020, 3, 23, 0, 0, 0)\n",
        "\n",
        "\n",
        "# query = 'DelhiPolice'\n",
        "# max_tweets = 1000\n",
        "# searched_tweets = [status for status in tweepy.Cursor(api.search, q=query).items(max_tweets)]\n",
        "# print(searched_tweets)\n",
        "tweetsToSave=[]\n",
        "tweets = api.search('@LtGovDelhi ', count=100000) #using @DelhiPolice, we'll get all tweets that have @DelhiPolice mentioned in them which includes the tweets by Delhi Police themselves\n",
        "for i in tweets:\n",
        "    if \"RT @\" not in i.text: #custom filter to filter out retweets\n",
        "        if (str(i.user.name)==\"LG Delhi\" or str(i.user.location)==\"28.6975° N, 77.2879° E, 1mi\"): #filtering out the tweets by Delhi Police so that what we are left with is only mentions of @DelhiPolice\n",
        "            # if str(i.user.location)==\"28.6975° N, 77.2879° E\":\n",
        "            continue\n",
        "        print(i.text , \" \" , i.created_at.strftime(\"%m/%d/%Y, %H:%M:%S\") , \" by \", i.user.name, \"\\n\")\n",
        "        tweetsToSave.append([i.text + \" \" + i.created_at.strftime(\"%m/%d/%Y, %H:%M:%S\") + \" by \"+ i.user.name])\n",
        "        # print(i.user.name+)\n",
        "    # print()\n",
        "# print(tweetsToSave)\n",
        "import csv\n",
        "# data_list = [[\"SN\", \"Name\", \"Contribution\"],\n",
        "#              [1, \"Linus Torvalds\", \"Linux Kernel\"],\n",
        "#              [2, \"Tim Berners-Lee\", \"World Wide Web\"],\n",
        "#              [3, \"Guido van Rossum\", \"Python Programming\"]]\n",
        "with open('tweets.csv', 'w', newline='') as file:\n",
        "    writer = csv.writer(file, delimiter='|')\n",
        "    writer.writerows(tweetsToSave) \n",
        "    print('Tweets Saved to tweets.csv successfully') "
      ],
      "execution_count": null,
      "outputs": [
        {
          "output_type": "stream",
          "text": [
            "@Sandeep24060341 @DelhiPolice @PMOIndia @HMOIndia @LtGovDelhi @CPDelhi @ArvindKejriwal @narendramodi मेरे भाई कितना… https://t.co/WDp7mPunKu   03/24/2020, 14:32:43  by  Ranaa(indian)🌹🇮🇳🇮🇳🇮🇳 \n",
            "\n",
            "रियल हीरो की तरह मैदान में निडरता के साथ उतरे @SDMC_Official के इन जबाज़ों की हो रही है प्रशंसा।खुद आयुक्त… https://t.co/KtuOJuSpOn   03/24/2020, 14:32:19  by  bajateyraho न्यूज़ \n",
            "\n",
            "#BREAKING Home Minister @AmitShah spoke to @DelhiPolice Commissioner and asked him to take strict action against la… https://t.co/JciZiAhqan   03/24/2020, 14:31:16  by  Tarun Sharma \n",
            "\n",
            "@ArvindKejriwal @LtGovDelhi @CPDelhi @narendramodi, people really idiots or they have lost all their senses. They a… https://t.co/JTPQuWkntM   03/24/2020, 14:30:10  by  Deepak Kumar \n",
            "\n",
            "@AmitShah @ArvindKejriwal @msisodia @Aap_Praveen @LtGovDelhi   03/24/2020, 14:29:57  by  Vineet Malik \n",
            "\n",
            "@ndtv @narendramodi @ArvindKejriwal @aajtak @IndiaToday @ItalyinIndia @CNNnews18 @BBCWorld @BBCIndia @msisodia… https://t.co/tHZgLwu5xp   03/24/2020, 14:29:49  by  darshvatsa \n",
            "\n",
            "@love_jamill1 @EZ_Hisona17 @SadiqKhan @LtGovNunez @LtGovDelhi @LTAsg @thePSLt20 @TheSatishDua @PostOffice… https://t.co/Ci0Dg74guC   03/24/2020, 14:28:50  by  maria \n",
            "\n",
            "@LtGovDelhi @AmitShah @DelhiPolice   03/24/2020, 14:28:49  by  Vineet Malik \n",
            "\n",
            "@suraiya95 @LtGovDelhi @HMOIndia @PMOIndia when common people question the authority rather then listening they ran… https://t.co/VSk78fZm4V   03/24/2020, 14:26:45  by  shiva \n",
            "\n",
            "@mukeshmukeshs @ArvindKejriwal @LtGovDelhi It is heart rendering really.\n",
            "\n",
            "Plz aisay beybas logo ki counseling ISBTs… https://t.co/XRwFRiujrq   03/24/2020, 14:26:40  by  Saroj Kumari \n",
            "\n",
            "@kapsology @DelhiPolice @ArvindKejriwal @LtGovDelhi सर लोग सुन नही रहे है हमारी रोड पर बहुत आवाजाही है । दुकाने भी… https://t.co/pPW3sL8saT   03/24/2020, 14:25:02  by  Deepak Pasricha \n",
            "\n",
            "@BABAYAGA_03 @DelhiPolice @HMOIndia @LtGovDelhi @CPDelhi @DCPWestDelhi Maine bhi msg dala yahan ka. Videos bhi li hain.   03/24/2020, 14:24:55  by  A.Bird \n",
            "\n",
            "@DelhiPolice is not even allowing home delivery of drinking water delivery boy in my house in East Delhi..\n",
            "Is this… https://t.co/XQWPLb0C2X   03/24/2020, 14:24:48  by  Ashutosh Shivam \n",
            "\n",
            "@LtGovDelhi @DelhiPolice please reply https://t.co/JFkEQOXJcn   03/24/2020, 14:24:16  by  Manpreet Kohli \n",
            "\n",
            "@SrishtiJain999 I hope @DCPEastDelhi @DelhiPolice @PMOIndia @HMOIndia @LtGovDelhi @CPDelhi come to your rescue and… https://t.co/Y27jxVAhTE   03/24/2020, 14:22:59  by  Yashika Sharma \n",
            "\n",
            "@anilattri1981 @PMOIndia @LtGovDelhi @dcp_outernorth Kindly take necessary action otherwise big disaster might happ… https://t.co/QvULN5T6UI   03/24/2020, 14:22:23  by  harekrishna \n",
            "\n",
            "@INCIndia @AmitShah @RahulGandhi @PMOIndia @narendramodi @DelhiPolice @LtGovDelhi \n",
            "इस संकट की घड़ी में राहुल गांधी… https://t.co/vFIk5rwnJX   03/24/2020, 14:21:45  by  गरीब की पंचायत \n",
            "\n",
            "#StayAtHome \n",
            "All people have the fear of \"Covid-19\", whether he/she is affected from corona or not. The only way to… https://t.co/h2X3oIKKlt   03/24/2020, 14:21:14  by  Nitin \n",
            "\n",
            "@DCPWestDelhi @ANI @HMOIndia @LtGovDelhi @CPDelhi Good job   03/24/2020, 14:21:06  by  manjeet singh \n",
            "\n",
            "@DelhiPolice @HMOIndia @LtGovDelhi @CPDelhi Hey, Sir Please Provide Helpline Number For Those Who Are Not Taking Lo… https://t.co/jVhKajtZUV   03/24/2020, 14:20:13  by  Bharat Arora \n",
            "\n",
            "@DelhiPolice @HMOIndia @LtGovDelhi @CPDelhi Sir please take some action.. people here are following any instruction… https://t.co/h7W5p8mk2a   03/24/2020, 14:19:56  by  Jasvinder K \n",
            "\n",
            "No one wants to be out of their homes right now. \n",
            "\n",
            "These sanitation workers like many other professionals out there… https://t.co/sAMKzCCmBd   03/24/2020, 14:19:35  by  Sidharth Pandey \n",
            "\n",
            "@DCPWestDelhi @ANI @HMOIndia @LtGovDelhi @CPDelhi People are moving freely and unnecessarily in holambi khurd villa… https://t.co/8h4c9zqLhn   03/24/2020, 14:19:13  by  Shekhar \n",
            "\n",
            "Dear @CPDelhi @DCPNWestDelhi @LtGovDelhi in clear violations, below company is #forcefully calling some staff to of… https://t.co/E9SRO6eigk   03/24/2020, 14:19:02  by  Indian Avenger \n",
            "\n",
            "A- block\n",
            "Gali number 2\n",
            "Bhagirathi vihar delhi 94\n",
            "एक धार्मिक कार्यकम का आयोजन हो रहा है\n",
            "इनको #कोरोना का कोई डर नही… https://t.co/9tc5ZmzDmB   03/24/2020, 14:19:02  by  Prakash Kumar \n",
            "\n",
            "@DCPNewDelhi @CPDelhi @LtGovDelhi @DelhiPolice @NabiyaKhan11 here.   03/24/2020, 14:18:18  by  HUSSAIN \n",
            "\n",
            "@ArvindKejriwal @AamAadmiParty @LtGovDelhi @DelhiPolice please take action against the complaint https://t.co/sKyxFPhbH8   03/24/2020, 14:17:53  by  Manpreet Kohli \n",
            "\n",
            "@ZeeNews @BJP4India @LtGovDelhi https://t.co/s12VMV0AQf   03/24/2020, 14:17:27  by  Chowkidar Keshav Arora \n",
            "\n",
            "@anilattri1981 @PMOIndia @LtGovDelhi @dcp_outernorth सर कृपया उच्चित कार्यवाही करवाने का कष्ट करें   03/24/2020, 14:16:33  by  बुराड़ी विधानसभा \n",
            "\n",
            "@CPDelhi @DelhiPolice @ArvindKejriwal @LtGovDelhi \n",
            "मैं करोल बाग में स्थित, मानक पुरा क्षेत्र का निवासी हूं। माननीय… https://t.co/M2l8xUTflc   03/24/2020, 14:15:32  by  Himanshu shorya \n",
            "\n",
            "@DCPNewDelhi @CPDelhi @LtGovDelhi @DelhiPolice This is good   03/24/2020, 14:14:50  by  🦇 Sunil Chouhan 🦇 \n",
            "\n",
            "@DelhiPolice @PMOIndia @HMOIndia @LtGovDelhi @CPDelhi @ArvindKejriwal Even though it was clearly stated that E-comm… https://t.co/a12IPv9JJT   03/24/2020, 14:14:48  by  Puneet Tiwari \n",
            "\n",
            "Health professionals handling flu clinics OPD #Covid_19india mostly without #N95 masks #DelhiFightsCorona must know… https://t.co/9Yr1JlkmzQ   03/24/2020, 14:12:28  by  Sunny \n",
            "\n",
            "@DelhiPolice @PMOIndia @HMOIndia @LtGovDelhi @CPDelhi @PMOIndia we are doing all our best to follow the lockdown an… https://t.co/27UpZLhn2s   03/24/2020, 14:12:02  by  Akshay kapil \n",
            "\n",
            "@DCPNewDelhi @CPDelhi @LtGovDelhi @DelhiPolice Can you come up with an online platform?   03/24/2020, 14:12:00  by  neither left nor right \n",
            "\n",
            "@narendramodi @PMOIndia @HMOIndia @AmitShah @LtGovDelhi @CPDelhi @OfficeofUT Dear PM, There will be many homeless i… https://t.co/ZJQP27qRPH   03/24/2020, 14:11:41  by  Anil dubey \n",
            "\n",
            "@gauravgkk @ArvindKejriwal @LtGovDelhi @Prashant16Gupta  बता भाई इनकी क्या गलती है   03/24/2020, 14:10:29  by  Ashutosh Mittal आरक्षण विरोधी \n",
            "\n",
            "@love_jamill1 @EZ_Hisona17 @SadiqKhan @LtGovNunez @LtGovDelhi @LTAsg @thePSLt20 @TheSatishDua @PostOffice… https://t.co/Qow5iYpiml   03/24/2020, 14:09:13  by  ✖️✖️✖️ \n",
            "\n",
            "@JarnailSinghAAP @ArvindKejriwal @SanjayAzadSln @AamAadmiParty @AapKaGopalRai @AAPDelhi @msisodia @BDUTT… https://t.co/nOdwZPJMxT   03/24/2020, 14:08:43  by  Nakesh Kumar Singh \n",
            "\n",
            "@karanjain2009 @Srishti86734506 @DCPEastDelhi @DelhiPolice @PMOIndia @HMOIndia @LtGovDelhi @CPDelhi Go ahead guys. All the best.   03/24/2020, 14:08:22  by  Yashika Sharma \n",
            "\n",
            "@PunjVirendra @DCPEastDelhi @CPDelhi @LtGovDelhi @balbirpunj @PMOIndia @ReallySwara @anuragkashyap72 @SrBachchan इं… https://t.co/osXRXG9ylz   03/24/2020, 14:07:50  by  Rajender Kumar \n",
            "\n",
            "Tweets Saved to tweets.csv successfully\n"
          ],
          "name": "stdout"
        }
      ]
    },
    {
      "cell_type": "code",
      "metadata": {
        "id": "eAoAbiX-gHJo"
      },
      "source": [
        ""
      ],
      "execution_count": null,
      "outputs": []
    }
  ]
}